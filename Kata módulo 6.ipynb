{
 "cells": [
  {
   "cell_type": "markdown",
   "metadata": {},
   "source": [
    "Ejercicio1: Crear y usar listas de Python"
   ]
  },
  {
   "cell_type": "code",
   "execution_count": 4,
   "metadata": {},
   "outputs": [
    {
     "name": "stdout",
     "output_type": "stream",
     "text": [
      "tenemos 8 planetas\n",
      "pluton es el ultimo planeta\n"
     ]
    }
   ],
   "source": [
    "planetas = [\"mercurio\", \"venus\", \"tierra\", \"marte\", \"jupiter\", \"saturno\", \"uranio\", \"neptuno\"]\n",
    "print(\"tenemos\", len(planetas), \"planetas\")\n",
    "\n",
    "planetas.append(\"pluton\")\n",
    "print(planetas[-1],\"es el ultimo planeta\")"
   ]
  },
  {
   "cell_type": "markdown",
   "metadata": {},
   "source": [
    "Ejercicio 2: Trabajando con datos de una lista"
   ]
  },
  {
   "cell_type": "code",
   "execution_count": 11,
   "metadata": {},
   "outputs": [
    {
     "name": "stdout",
     "output_type": "stream",
     "text": [
      "Planetas mas cercanos al sol que tierra\n",
      "['mercurio', 'venus']\n",
      "Planetas mas lejanos al sol que tierra\n",
      "['marte', 'jupiter', 'saturno', 'uranio', 'neptuno']\n"
     ]
    }
   ],
   "source": [
    "planetas = [\"mercurio\", \"venus\", \"tierra\", \"marte\", \"jupiter\", \"saturno\", \"uranio\", \"neptuno\"]\n",
    "planeta_ingresado = input(\"ingrese nombre del planeta\")\n",
    "planeta_index = planetas.index(planeta_ingresado)\n",
    "print(\"Planetas mas cercanos al sol que \" + planeta_ingresado)\n",
    "print(planetas[0:planeta_index])\n",
    "print(\"Planetas mas lejanos al sol que \" + planeta_ingresado)\n",
    "print(planetas[planeta_index + 1:])"
   ]
  }
 ],
 "metadata": {
  "interpreter": {
   "hash": "0409d9a2435641c71c01ec89d90e7b5163a0de1b9e84b4236c35221557162376"
  },
  "kernelspec": {
   "display_name": "Python 3.10.1 64-bit",
   "language": "python",
   "name": "python3"
  },
  "language_info": {
   "codemirror_mode": {
    "name": "ipython",
    "version": 3
   },
   "file_extension": ".py",
   "mimetype": "text/x-python",
   "name": "python",
   "nbconvert_exporter": "python",
   "pygments_lexer": "ipython3",
   "version": "3.10.1"
  },
  "orig_nbformat": 4
 },
 "nbformat": 4,
 "nbformat_minor": 2
}
