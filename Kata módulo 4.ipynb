{
 "cells": [
  {
   "cell_type": "markdown",
   "metadata": {},
   "source": [
    "Ejercicio 1: Transformar cadenas"
   ]
  },
  {
   "cell_type": "code",
   "execution_count": 11,
   "metadata": {},
   "outputs": [
    {
     "name": "stdout",
     "output_type": "stream",
     "text": [
      "Interesting facts about the Moon\n",
      "Interesting facts about the Moon\n",
      "Interesting facts about the Moon\n",
      " The Moon is Earth's only satellite\n",
      " The Moon is Earth's only satellite\n",
      " The Moon is Earth's only satellite\n",
      " There are several interesting facts about the Moon and how it affects life here on Earth\n",
      " There are several interesting facts about the Moon and how it affects life here on Earth\n",
      " There are several interesting facts about the Moon and how it affects life here on Earth\n",
      " \n",
      "On average, the Moon moves 4cm away from the Earth every year\n",
      " \n",
      "On average, the Moon moves 4cm away from the Earth every year\n",
      " \n",
      "On average, the Moon moves 4cm away from the Earth every year\n",
      " This yearly drift is not significant enough to cause immediate effects on Earth\n",
      " This yearly drift is not significant enough to cause immediate effects on Earth\n",
      " This yearly drift is not significant enough to cause immediate effects on Earth\n",
      " The high\n",
      " The high\n",
      " The high\n"
     ]
    }
   ],
   "source": [
    "text = \"\"\"Interesting facts about the Moon. The Moon is Earth's only satellite. There are several interesting facts about the Moon and how it affects life here on Earth. \n",
    "On average, the Moon moves 4cm away from the Earth every year. This yearly drift is not significant enough to cause immediate effects on Earth. The high\"\"\"\n",
    "text_parts = text .split('.')\n",
    "text_parts\n",
    "filtros = [\"average\", \"temperature\", \"distance\"]\n",
    "for text in text_parts:\n",
    "    for filtro in filtros:\n",
    "        if 'C' in text:\n",
    "            print(text. replace('C','Celsiuls'))\n",
    "        else:\n",
    "            print(text)\n"
   ]
  },
  {
   "cell_type": "markdown",
   "metadata": {},
   "source": [
    "Aquí me perdi. La verdad no supe bien lo que hice ##   :("
   ]
  }
 ],
 "metadata": {
  "interpreter": {
   "hash": "0409d9a2435641c71c01ec89d90e7b5163a0de1b9e84b4236c35221557162376"
  },
  "kernelspec": {
   "display_name": "Python 3.10.1 64-bit",
   "language": "python",
   "name": "python3"
  },
  "language_info": {
   "codemirror_mode": {
    "name": "ipython",
    "version": 3
   },
   "file_extension": ".py",
   "mimetype": "text/x-python",
   "name": "python",
   "nbconvert_exporter": "python",
   "pygments_lexer": "ipython3",
   "version": "3.10.1"
  },
  "orig_nbformat": 4
 },
 "nbformat": 4,
 "nbformat_minor": 2
}
